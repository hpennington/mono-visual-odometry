{
 "cells": [
  {
   "cell_type": "code",
   "execution_count": 1,
   "metadata": {},
   "outputs": [],
   "source": [
    "import numpy as np"
   ]
  },
  {
   "cell_type": "code",
   "execution_count": 2,
   "metadata": {},
   "outputs": [
    {
     "name": "stdout",
     "output_type": "stream",
     "text": [
      "A [[ 1  2  3]\n",
      " [ 4  5  6]\n",
      " [ 7  8  9]\n",
      " [10 11 12]]\n",
      "U [[-0.14087668 -0.82471435  0.54704904 -0.02715407]\n",
      " [-0.34394629 -0.42626394 -0.70915928  0.4439517 ]\n",
      " [-0.54701591 -0.02781353 -0.22282857 -0.80644121]\n",
      " [-0.75008553  0.37063688  0.38493881  0.38964357]]\n",
      "d [2.54624074e+01 1.29066168e+00 1.80972823e-15]\n",
      "Vt [[-0.50453315 -0.5745157  -0.64449826]\n",
      " [ 0.76077568  0.05714052 -0.64649464]\n",
      " [-0.40824829  0.81649658 -0.40824829]]\n",
      "B [[ 1.1495012   1.97627197  2.80304274]\n",
      " [ 4.01401641  4.91570674  5.81739708]\n",
      " [ 6.87853161  7.85514151  8.83175141]\n",
      " [ 9.74304682 10.79457628 11.84610575]]\n"
     ]
    }
   ],
   "source": [
    "A = np.array([[1, 2, 3], [4, 5, 6], [7, 8, 9], [10, 11, 12]])\n",
    "print('A', A)\n",
    "\n",
    "U, d, Vt = np.linalg.svd(A)\n",
    "\n",
    "print('U', U)\n",
    "print('d', d)\n",
    "print('Vt', Vt)\n",
    "\n",
    "# Reconstruct\n",
    "S = np.zeros_like(A)\n",
    "S[:3, :3] = np.diag(d)\n",
    "B = U @ S @ Vt\n",
    "print('B', B)\n",
    "\n"
   ]
  }
 ],
 "metadata": {
  "kernelspec": {
   "display_name": "Python 3.11.0 64-bit",
   "language": "python",
   "name": "python3"
  },
  "language_info": {
   "codemirror_mode": {
    "name": "ipython",
    "version": 3
   },
   "file_extension": ".py",
   "mimetype": "text/x-python",
   "name": "python",
   "nbconvert_exporter": "python",
   "pygments_lexer": "ipython3",
   "version": "3.11.0"
  },
  "orig_nbformat": 4,
  "vscode": {
   "interpreter": {
    "hash": "5c7b89af1651d0b8571dde13640ecdccf7d5a6204171d6ab33e7c296e100e08a"
   }
  }
 },
 "nbformat": 4,
 "nbformat_minor": 2
}
